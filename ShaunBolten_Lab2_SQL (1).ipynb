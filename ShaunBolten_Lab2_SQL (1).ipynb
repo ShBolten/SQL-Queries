{
 "cells": [
  {
   "cell_type": "markdown",
   "metadata": {
    "slideshow": {
     "slide_type": "slide"
    }
   },
   "source": [
    "# Lab 2: SQL Queries\n",
    "\n",
    "### [name]"
   ]
  },
  {
   "cell_type": "markdown",
   "metadata": {},
   "source": [
    "## Instruction\n",
    "This lab is due at 11:59 pm on **Mar. 1, 2024**. You need to finish all questions of both In-class Assginment and Homework. Write your name in the above cell. Name your ipynb file as **StudentName_lab2.ipynb** and submit it on Blackboard. \n",
    "\n",
    "PLEASE ENSURE THAT THE SCRIPT CAN CORRECTLY EXECUTE!!! "
   ]
  },
  {
   "cell_type": "code",
   "execution_count": 107,
   "metadata": {
    "slideshow": {
     "slide_type": "fragment"
    }
   },
   "outputs": [
    {
     "name": "stdout",
     "output_type": "stream",
     "text": [
      "The sql extension is already loaded. To reload it, use:\n",
      "  %reload_ext sql\n"
     ]
    }
   ],
   "source": [
    "#Let's load the sql extension and connect to a database **lab2.db** using:\n",
    "%load_ext sql\n",
    "#%reload_ext sql\n",
    "%sql sqlite:///lab2.db"
   ]
  },
  {
   "cell_type": "markdown",
   "metadata": {},
   "source": [
    "## In-class Assignment"
   ]
  },
  {
   "cell_type": "markdown",
   "metadata": {},
   "source": [
    "### Exercise 1 [5 points]"
   ]
  },
  {
   "cell_type": "markdown",
   "metadata": {
    "slideshow": {
     "slide_type": "fragment"
    }
   },
   "source": [
    "Write SQL declarations for creating the schemas of the following three tables. Include necessary key constraints.\n",
    "\n",
    "1. Employee(<u>eid</u>:integer, ename:string, age:integer, salary:real)\n",
    "\n",
    "2. Works(<u>eid</u>:integer, <u>did</u>:integer, pct_time:integer)\n",
    "\n",
    "3. Department(<u>did</u>:integer, dname:string, budget:real, managerid:integer)\n",
    "\n",
    "The keys are underlined in each relation. Relation **Employee** stores employee information such as unique identifier **eid**, employee name **ename**, **age** and **salary**. Relation **Department** stores the department unique identifier **did**, department name **dname**, the department **budget** and **managerid** which is the **eid** of the employee who is managing the department. *The **managerid** value must always be found in the **eid** field of a record of the Employee relation.* The Works relation tracks which employee works in which department, and what **percentage** of the time s/he allocates to that department. Note that, an employee can work in several departments."
   ]
  },
  {
   "cell_type": "code",
   "execution_count": 118,
   "metadata": {},
   "outputs": [
    {
     "name": "stdout",
     "output_type": "stream",
     "text": [
      " * sqlite:///lab2.db\n",
      "Done.\n",
      "Done.\n",
      "Done.\n",
      "Done.\n",
      "Done.\n",
      "Done.\n"
     ]
    },
    {
     "data": {
      "text/plain": [
       "[]"
      ]
     },
     "execution_count": 118,
     "metadata": {},
     "output_type": "execute_result"
    }
   ],
   "source": [
    "%%sql drop table if exists Employee;\n",
    "CREATE TABLE Employee(\n",
    "    eid integer PRIMARY KEY,\n",
    "    ename CHAR(20),\n",
    "    age integer,\n",
    "    salary real);\n",
    "\n",
    "drop table if exists Works;\n",
    "CREATE TABLE Works(\n",
    "    eid integer,\n",
    "    did integer,\n",
    "    pct_time integer);\n",
    "\n",
    "drop table if exists Department;\n",
    "CREATE TABLE Department(\n",
    "    did integer PRIMARY KEY,\n",
    "    dname CHAR(20),\n",
    "    budget real,\n",
    "    managerid integer,\n",
    "    FOREIGN KEY(managerid) REFERENCES Employee(eid));"
   ]
  },
  {
   "cell_type": "markdown",
   "metadata": {},
   "source": [
    "### Insert values to tables\n",
    "Execute the cell below to insert values to the three tables.\n",
    "1. Employee\n",
    "\n",
    "| eid     | ename         | age | salary |  \n",
    "|---------|---------------|-----|--------|\n",
    "| 101     | Andrew Fuller | 40  | 50000  |\n",
    "| 102     | Justin Peacock| 25  | 20000  |\n",
    "| 103     | Nancy Buchanan| 35  | 30000  |\n",
    "| 104     | Robert King   | 30  | 20000  |\n",
    "\n",
    "2. Works:\n",
    "\n",
    "| eid     | did  | pct_time | \n",
    "|---------|------|----------|\n",
    "| 101     | 1001 | 100      |\n",
    "| 102     | 1001 | 20       |\n",
    "| 102     | 1002 | 50       |\n",
    "| 102     | 1003 | 10       |\n",
    "| 103     | 1003 | 90       |\n",
    "| 103     | 1001 | 10       |\n",
    "| 104     | 1001 | 20       |\n",
    "| 104     | 1002 | 70       |\n",
    "\n",
    "3. Department:\n",
    "\n",
    "| did     | dname    | budget  | managerid |\n",
    "|---------|----------|---------|-----------|\n",
    "| 1001    | IT       | 500000  | 101       |\n",
    "| 1002    | Computing| 750000  | 110       |\n",
    "| 1003    | Finance  | 350000  | 103       |\n",
    "\n",
    "\n"
   ]
  },
  {
   "cell_type": "code",
   "execution_count": 109,
   "metadata": {},
   "outputs": [
    {
     "name": "stdout",
     "output_type": "stream",
     "text": [
      " * sqlite:///lab2.db\n",
      "0 rows affected.\n",
      "0 rows affected.\n",
      "0 rows affected.\n",
      "1 rows affected.\n",
      "1 rows affected.\n",
      "1 rows affected.\n",
      "1 rows affected.\n",
      "1 rows affected.\n",
      "1 rows affected.\n",
      "1 rows affected.\n",
      "1 rows affected.\n",
      "1 rows affected.\n",
      "1 rows affected.\n",
      "1 rows affected.\n",
      "1 rows affected.\n",
      "1 rows affected.\n",
      "1 rows affected.\n",
      "1 rows affected.\n"
     ]
    },
    {
     "data": {
      "text/plain": [
       "[]"
      ]
     },
     "execution_count": 109,
     "metadata": {},
     "output_type": "execute_result"
    }
   ],
   "source": [
    "%%sql\n",
    "DELETE FROM Employee;\n",
    "DELETE FROM Works;\n",
    "DELETE FROM Department;\n",
    "insert into Employee values ( 101,'Andrew Fuller', 40, 50000);\n",
    "insert into Employee values ( 102, 'Justin Peacock', 25, 20000);\n",
    "insert into Employee values ( 103, 'Nancy Buchanan', 35, 30000);\n",
    "insert into Employee values ( 104, 'Robert King', 30, 20000);\n",
    "\n",
    "insert into Department values (1001, 'IT', 500000, 101);\n",
    "insert into Department values (1002, 'Computing', 750000, 110);\n",
    "insert into Department values (1003, 'Finance', 350000, 103);\n",
    "\n",
    "insert into Works values (101, 1001, 100);\n",
    "insert into Works values (102, 1001, 20);\n",
    "insert into Works values (102, 1002, 50);\n",
    "insert into Works values (102, 1003, 10);\n",
    "insert into Works values (103, 1003, 90);\n",
    "insert into Works values (103, 1001, 10);\n",
    "insert into Works values (104, 1001, 20);\n",
    "insert into Works values (104, 1002, 70);"
   ]
  },
  {
   "cell_type": "markdown",
   "metadata": {
    "slideshow": {
     "slide_type": "slide"
    }
   },
   "source": [
    "### Exercise 2 [5 points]\n",
    "Find the salaries of employees that work in the department 'Computing'"
   ]
  },
  {
   "cell_type": "code",
   "execution_count": 110,
   "metadata": {
    "scrolled": true
   },
   "outputs": [
    {
     "name": "stdout",
     "output_type": "stream",
     "text": [
      " * sqlite:///lab2.db\n",
      "Done.\n"
     ]
    },
    {
     "data": {
      "text/html": [
       "<table>\n",
       "    <thead>\n",
       "        <tr>\n",
       "            <th>salary</th>\n",
       "        </tr>\n",
       "    </thead>\n",
       "    <tbody>\n",
       "        <tr>\n",
       "            <td>20000.0</td>\n",
       "        </tr>\n",
       "        <tr>\n",
       "            <td>20000.0</td>\n",
       "        </tr>\n",
       "    </tbody>\n",
       "</table>"
      ],
      "text/plain": [
       "[(20000.0,), (20000.0,)]"
      ]
     },
     "execution_count": 110,
     "metadata": {},
     "output_type": "execute_result"
    }
   ],
   "source": [
    "%%sql\n",
    "Select E.Salary\n",
    "From Employee E, Works W, Department D\n",
    "Where (D.dname = 'Computing'\n",
    "       AND W.did = D.did\n",
    "       AND W.eid = E.eid)"
   ]
  },
  {
   "cell_type": "markdown",
   "metadata": {},
   "source": [
    "### Exercise 3 [5 points]\n",
    "Find the ages of employees who work more than 30% of their time in a single department. List each age only once."
   ]
  },
  {
   "cell_type": "code",
   "execution_count": 111,
   "metadata": {
    "scrolled": true
   },
   "outputs": [
    {
     "name": "stdout",
     "output_type": "stream",
     "text": [
      " * sqlite:///lab2.db\n",
      "Done.\n"
     ]
    },
    {
     "data": {
      "text/html": [
       "<table>\n",
       "    <thead>\n",
       "        <tr>\n",
       "            <th>age</th>\n",
       "        </tr>\n",
       "    </thead>\n",
       "    <tbody>\n",
       "        <tr>\n",
       "            <td>40</td>\n",
       "        </tr>\n",
       "        <tr>\n",
       "            <td>25</td>\n",
       "        </tr>\n",
       "        <tr>\n",
       "            <td>35</td>\n",
       "        </tr>\n",
       "        <tr>\n",
       "            <td>30</td>\n",
       "        </tr>\n",
       "    </tbody>\n",
       "</table>"
      ],
      "text/plain": [
       "[(40,), (25,), (35,), (30,)]"
      ]
     },
     "execution_count": 111,
     "metadata": {},
     "output_type": "execute_result"
    }
   ],
   "source": [
    "%%sql\n",
    "Select Distinct E.age\n",
    "From Employee E, Works W\n",
    "Where (E.eid = W.eid \n",
    "       AND W.pct_time > 30)"
   ]
  },
  {
   "cell_type": "markdown",
   "metadata": {},
   "source": [
    "### Exercise 4 [5 points]\n",
    "Find the name of departments who employ only persons of age 30 or younger. List each name only once."
   ]
  },
  {
   "cell_type": "code",
   "execution_count": 112,
   "metadata": {},
   "outputs": [
    {
     "name": "stdout",
     "output_type": "stream",
     "text": [
      " * sqlite:///lab2.db\n",
      "Done.\n"
     ]
    },
    {
     "data": {
      "text/html": [
       "<table>\n",
       "    <thead>\n",
       "        <tr>\n",
       "            <th>dname</th>\n",
       "        </tr>\n",
       "    </thead>\n",
       "    <tbody>\n",
       "        <tr>\n",
       "            <td>Computing</td>\n",
       "        </tr>\n",
       "    </tbody>\n",
       "</table>"
      ],
      "text/plain": [
       "[('Computing',)]"
      ]
     },
     "execution_count": 112,
     "metadata": {},
     "output_type": "execute_result"
    }
   ],
   "source": [
    "%%sql\n",
    "Select Distinct D.dname\n",
    "From Department D, Works W, Employee E\n",
    "Where (W.eid = E.eid\n",
    "       AND D.did = W.did)\n",
    "Group By W.did\n",
    "Having Max(E.age) <= 30"
   ]
  },
  {
   "cell_type": "markdown",
   "metadata": {},
   "source": [
    "### Exercise 5 [5 points]\n",
    "Find the names of employees who work in all departments"
   ]
  },
  {
   "cell_type": "code",
   "execution_count": 113,
   "metadata": {},
   "outputs": [
    {
     "name": "stdout",
     "output_type": "stream",
     "text": [
      " * sqlite:///lab2.db\n",
      "Done.\n"
     ]
    },
    {
     "data": {
      "text/html": [
       "<table>\n",
       "    <thead>\n",
       "        <tr>\n",
       "            <th>ename</th>\n",
       "        </tr>\n",
       "    </thead>\n",
       "    <tbody>\n",
       "        <tr>\n",
       "            <td>Justin Peacock</td>\n",
       "        </tr>\n",
       "    </tbody>\n",
       "</table>"
      ],
      "text/plain": [
       "[('Justin Peacock',)]"
      ]
     },
     "execution_count": 113,
     "metadata": {},
     "output_type": "execute_result"
    }
   ],
   "source": [
    "%%sql\n",
    "SELECT E.ename\n",
    "FROM Employee E\n",
    "WHERE NOT EXISTS (\n",
    "    SELECT D.did\n",
    "    FROM Department D\n",
    "    WHERE D.did NOT IN (\n",
    "        SELECT W.did\n",
    "        FROM Works W\n",
    "        WHERE W.eid = E.eid))"
   ]
  },
  {
   "cell_type": "markdown",
   "metadata": {},
   "source": [
    "## Homework"
   ]
  },
  {
   "cell_type": "markdown",
   "metadata": {},
   "source": [
    "### Question 1 [6 points]\n",
    "Find the names of employees who are managers."
   ]
  },
  {
   "cell_type": "code",
   "execution_count": 114,
   "metadata": {},
   "outputs": [
    {
     "name": "stdout",
     "output_type": "stream",
     "text": [
      " * sqlite:///lab2.db\n",
      "Done.\n"
     ]
    },
    {
     "data": {
      "text/html": [
       "<table>\n",
       "    <thead>\n",
       "        <tr>\n",
       "            <th>ename</th>\n",
       "            <th>manager</th>\n",
       "        </tr>\n",
       "    </thead>\n",
       "    <tbody>\n",
       "        <tr>\n",
       "            <td>Andrew Fuller</td>\n",
       "            <td>101</td>\n",
       "        </tr>\n",
       "        <tr>\n",
       "            <td>Nancy Buchanan</td>\n",
       "            <td>103</td>\n",
       "        </tr>\n",
       "    </tbody>\n",
       "</table>"
      ],
      "text/plain": [
       "[('Andrew Fuller', 101), ('Nancy Buchanan', 103)]"
      ]
     },
     "execution_count": 114,
     "metadata": {},
     "output_type": "execute_result"
    }
   ],
   "source": [
    "%%sql\n",
    "Select E.ename, D.managerid as manager\n",
    "From Employee E, Department D\n",
    "Where E.eid = manager"
   ]
  },
  {
   "cell_type": "markdown",
   "metadata": {},
   "source": [
    "# Question 2 [6 points]\n",
    "Find the ages of employees who work at least 50% of their time in a department called ‘Computing’ but who do not work in any department with budget less than $400,000."
   ]
  },
  {
   "cell_type": "code",
   "execution_count": 115,
   "metadata": {},
   "outputs": [
    {
     "name": "stdout",
     "output_type": "stream",
     "text": [
      " * sqlite:///lab2.db\n",
      "Done.\n"
     ]
    },
    {
     "data": {
      "text/html": [
       "<table>\n",
       "    <thead>\n",
       "        <tr>\n",
       "            <th>age</th>\n",
       "        </tr>\n",
       "    </thead>\n",
       "    <tbody>\n",
       "        <tr>\n",
       "            <td>30</td>\n",
       "        </tr>\n",
       "    </tbody>\n",
       "</table>"
      ],
      "text/plain": [
       "[(30,)]"
      ]
     },
     "execution_count": 115,
     "metadata": {},
     "output_type": "execute_result"
    }
   ],
   "source": [
    "%%sql\n",
    "SELECT e.age\n",
    "FROM Employee E\n",
    "WHERE E.eid IN (\n",
    "    SELECT W.eid\n",
    "    FROM Works W, Department D\n",
    "    WHERE W.did = D.did\n",
    "    AND D.dname = 'Computing'\n",
    "    AND W.pct_time >= 50)\n",
    "AND E.eid NOT IN (\n",
    "        SELECT W.eid\n",
    "        FROM Works W, Department D\n",
    "        WHERE W.did = D.did\n",
    "        AND d.budget < 400000)"
   ]
  },
  {
   "cell_type": "markdown",
   "metadata": {},
   "source": [
    "### Question 3 [6 points]\n",
    "Find the salaries of employees who work only in departments that have budget more than $400,000. List each salary value only once."
   ]
  },
  {
   "cell_type": "code",
   "execution_count": 116,
   "metadata": {},
   "outputs": [
    {
     "name": "stdout",
     "output_type": "stream",
     "text": [
      " * sqlite:///lab2.db\n",
      "Done.\n"
     ]
    },
    {
     "data": {
      "text/html": [
       "<table>\n",
       "    <thead>\n",
       "        <tr>\n",
       "            <th>salary</th>\n",
       "        </tr>\n",
       "    </thead>\n",
       "    <tbody>\n",
       "        <tr>\n",
       "            <td>50000.0</td>\n",
       "        </tr>\n",
       "        <tr>\n",
       "            <td>20000.0</td>\n",
       "        </tr>\n",
       "    </tbody>\n",
       "</table>"
      ],
      "text/plain": [
       "[(50000.0,), (20000.0,)]"
      ]
     },
     "execution_count": 116,
     "metadata": {},
     "output_type": "execute_result"
    }
   ],
   "source": [
    "%%sql\n",
    "Select Distinct E.Salary\n",
    "From Department D, Works W, Employee E\n",
    "Where (W.eid = E.eid\n",
    "       AND D.did = W.did)\n",
    "Group By W.did\n",
    "Having Max(D.budget) >= 400000\n",
    "\n",
    "\n"
   ]
  },
  {
   "cell_type": "markdown",
   "metadata": {},
   "source": [
    "### Question 4 [7 points]\n",
    "Find the names of employees who work in all departments with budget higher than $400,000"
   ]
  },
  {
   "cell_type": "code",
   "execution_count": 117,
   "metadata": {},
   "outputs": [
    {
     "name": "stdout",
     "output_type": "stream",
     "text": [
      " * sqlite:///lab2.db\n",
      "Done.\n"
     ]
    },
    {
     "data": {
      "text/html": [
       "<table>\n",
       "    <thead>\n",
       "        <tr>\n",
       "            <th>ename</th>\n",
       "        </tr>\n",
       "    </thead>\n",
       "    <tbody>\n",
       "        <tr>\n",
       "            <td>Justin Peacock</td>\n",
       "        </tr>\n",
       "        <tr>\n",
       "            <td>Robert King</td>\n",
       "        </tr>\n",
       "    </tbody>\n",
       "</table>"
      ],
      "text/plain": [
       "[('Justin Peacock',), ('Robert King',)]"
      ]
     },
     "execution_count": 117,
     "metadata": {},
     "output_type": "execute_result"
    }
   ],
   "source": [
    "%%sql\n",
    "SELECT E.ename\n",
    "FROM Employee E\n",
    "WHERE (NOT EXISTS (\n",
    "    SELECT D.did\n",
    "    FROM Department D\n",
    "    WHERE D.did NOT IN (\n",
    "        SELECT W.did\n",
    "        FROM Works W\n",
    "        WHERE W.eid = E.eid)\n",
    "      AND D.budget > 400000))"
   ]
  },
  {
   "cell_type": "code",
   "execution_count": null,
   "metadata": {},
   "outputs": [],
   "source": []
  },
  {
   "cell_type": "code",
   "execution_count": null,
   "metadata": {},
   "outputs": [],
   "source": []
  },
  {
   "cell_type": "code",
   "execution_count": null,
   "metadata": {},
   "outputs": [],
   "source": []
  }
 ],
 "metadata": {
  "kernelspec": {
   "display_name": "Python 3 (ipykernel)",
   "language": "python",
   "name": "python3"
  },
  "language_info": {
   "codemirror_mode": {
    "name": "ipython",
    "version": 3
   },
   "file_extension": ".py",
   "mimetype": "text/x-python",
   "name": "python",
   "nbconvert_exporter": "python",
   "pygments_lexer": "ipython3",
   "version": "3.11.5"
  }
 },
 "nbformat": 4,
 "nbformat_minor": 4
}
